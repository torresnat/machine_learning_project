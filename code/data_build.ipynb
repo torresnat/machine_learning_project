{
 "cells": [
  {
   "cell_type": "code",
   "execution_count": 5,
   "id": "54d6e316-0604-476e-8981-2258a204a781",
   "metadata": {},
   "outputs": [
    {
     "data": {
      "text/html": [
       "<div>\n",
       "<style scoped>\n",
       "    .dataframe tbody tr th:only-of-type {\n",
       "        vertical-align: middle;\n",
       "    }\n",
       "\n",
       "    .dataframe tbody tr th {\n",
       "        vertical-align: top;\n",
       "    }\n",
       "\n",
       "    .dataframe thead th {\n",
       "        text-align: right;\n",
       "    }\n",
       "</style>\n",
       "<table border=\"1\" class=\"dataframe\">\n",
       "  <thead>\n",
       "    <tr style=\"text-align: right;\">\n",
       "      <th></th>\n",
       "      <th>store_ID</th>\n",
       "      <th>day_of_week</th>\n",
       "      <th>date</th>\n",
       "      <th>nb_customers_on_day</th>\n",
       "      <th>open</th>\n",
       "      <th>promotion</th>\n",
       "      <th>state_holiday</th>\n",
       "      <th>school_holiday</th>\n",
       "      <th>sales</th>\n",
       "    </tr>\n",
       "  </thead>\n",
       "  <tbody>\n",
       "    <tr>\n",
       "      <th>0</th>\n",
       "      <td>366</td>\n",
       "      <td>4</td>\n",
       "      <td>2013-04-18</td>\n",
       "      <td>517</td>\n",
       "      <td>1</td>\n",
       "      <td>0</td>\n",
       "      <td>0</td>\n",
       "      <td>0</td>\n",
       "      <td>4422</td>\n",
       "    </tr>\n",
       "    <tr>\n",
       "      <th>1</th>\n",
       "      <td>394</td>\n",
       "      <td>6</td>\n",
       "      <td>2015-04-11</td>\n",
       "      <td>694</td>\n",
       "      <td>1</td>\n",
       "      <td>0</td>\n",
       "      <td>0</td>\n",
       "      <td>0</td>\n",
       "      <td>8297</td>\n",
       "    </tr>\n",
       "    <tr>\n",
       "      <th>2</th>\n",
       "      <td>807</td>\n",
       "      <td>4</td>\n",
       "      <td>2013-08-29</td>\n",
       "      <td>970</td>\n",
       "      <td>1</td>\n",
       "      <td>1</td>\n",
       "      <td>0</td>\n",
       "      <td>0</td>\n",
       "      <td>9729</td>\n",
       "    </tr>\n",
       "    <tr>\n",
       "      <th>3</th>\n",
       "      <td>802</td>\n",
       "      <td>2</td>\n",
       "      <td>2013-05-28</td>\n",
       "      <td>473</td>\n",
       "      <td>1</td>\n",
       "      <td>1</td>\n",
       "      <td>0</td>\n",
       "      <td>0</td>\n",
       "      <td>6513</td>\n",
       "    </tr>\n",
       "    <tr>\n",
       "      <th>4</th>\n",
       "      <td>726</td>\n",
       "      <td>4</td>\n",
       "      <td>2013-10-10</td>\n",
       "      <td>1068</td>\n",
       "      <td>1</td>\n",
       "      <td>1</td>\n",
       "      <td>0</td>\n",
       "      <td>0</td>\n",
       "      <td>10882</td>\n",
       "    </tr>\n",
       "  </tbody>\n",
       "</table>\n",
       "</div>"
      ],
      "text/plain": [
       "   store_ID  day_of_week        date  nb_customers_on_day  open  promotion  \\\n",
       "0       366            4  2013-04-18                  517     1          0   \n",
       "1       394            6  2015-04-11                  694     1          0   \n",
       "2       807            4  2013-08-29                  970     1          1   \n",
       "3       802            2  2013-05-28                  473     1          1   \n",
       "4       726            4  2013-10-10                 1068     1          1   \n",
       "\n",
       "  state_holiday  school_holiday  sales  \n",
       "0             0               0   4422  \n",
       "1             0               0   8297  \n",
       "2             0               0   9729  \n",
       "3             0               0   6513  \n",
       "4             0               0  10882  "
      ]
     },
     "execution_count": 5,
     "metadata": {},
     "output_type": "execute_result"
    }
   ],
   "source": [
    "import pandas as pd\n",
    "import matplotlib.pyplot as plt\n",
    "\n",
    "cleaned_sales_data = pd.read_csv(r\"C:\\Users\\torre\\Downloads\\cleaned_sales_data.csv\")\n",
    "cleaned_sales_data.head()"
   ]
  },
  {
   "cell_type": "code",
   "execution_count": 62,
   "id": "3dc52b38-2b6c-4db8-bb3b-6462b178dcc2",
   "metadata": {},
   "outputs": [
    {
     "data": {
      "text/plain": [
       "6959.657210259687"
      ]
     },
     "execution_count": 62,
     "metadata": {},
     "output_type": "execute_result"
    }
   ],
   "source": [
    "average_sales = cleaned_sales_data['sales'].mean()\n",
    "average_sales"
   ]
  },
  {
   "cell_type": "code",
   "execution_count": 64,
   "id": "54b7be75-480d-4c7a-aa2c-a6d0d4305534",
   "metadata": {},
   "outputs": [
    {
     "data": {
      "text/plain": [
       "store_ID\n",
       "1       2418077\n",
       "2       2493044\n",
       "3       3443248\n",
       "4       4624267\n",
       "5       2283572\n",
       "         ...   \n",
       "1111    2607237\n",
       "1112    4950139\n",
       "1113    3288394\n",
       "1114    9953850\n",
       "1115    3058095\n",
       "Name: sales, Length: 1115, dtype: int64"
      ]
     },
     "execution_count": 64,
     "metadata": {},
     "output_type": "execute_result"
    }
   ],
   "source": [
    "total_sales_by_store = cleaned_sales_data.groupby('store_ID')['sales'].sum()\n",
    "total_sales_by_store"
   ]
  },
  {
   "cell_type": "code",
   "execution_count": 68,
   "id": "1c783aed-9197-4e77-ac89-6d43342ea29d",
   "metadata": {},
   "outputs": [
    {
     "data": {
      "text/plain": [
       "store_ID\n",
       "1        4769.382643\n",
       "2        4907.566929\n",
       "3        6886.496000\n",
       "4        9714.846639\n",
       "5        4650.859470\n",
       "            ...     \n",
       "1111     5320.891837\n",
       "1112    10143.727459\n",
       "1113     6643.220202\n",
       "1114    20481.172840\n",
       "1115     6215.640244\n",
       "Name: sales, Length: 1115, dtype: float64"
      ]
     },
     "execution_count": 68,
     "metadata": {},
     "output_type": "execute_result"
    }
   ],
   "source": [
    "average_sales_by_store = cleaned_sales_data.groupby('store_ID')['sales'].mean()\n",
    "average_sales_by_store"
   ]
  },
  {
   "cell_type": "code",
   "execution_count": 66,
   "id": "b08af39d-c614-4859-8968-ceb8702dbaba",
   "metadata": {},
   "outputs": [
    {
     "data": {
      "text/plain": [
       "817"
      ]
     },
     "execution_count": 66,
     "metadata": {},
     "output_type": "execute_result"
    }
   ],
   "source": [
    "highest_avg_sales_store = average_sales_by_store.idxmax()\n",
    "highest_avg_sales_store"
   ]
  },
  {
   "cell_type": "code",
   "execution_count": 70,
   "id": "f136e4e4-27d6-4dc0-affd-c66db1f505e4",
   "metadata": {},
   "outputs": [
    {
     "data": {
      "text/plain": [
       "307"
      ]
     },
     "execution_count": 70,
     "metadata": {},
     "output_type": "execute_result"
    }
   ],
   "source": [
    "lowest_avg_sales_store = average_sales_by_store.idxmin()\n",
    "lowest_avg_sales_store"
   ]
  },
  {
   "cell_type": "code",
   "execution_count": 72,
   "id": "08916bc0-2fed-4f3b-b21e-35441f6331c8",
   "metadata": {},
   "outputs": [
    {
     "data": {
      "text/plain": [
       "day_of_week\n",
       "1    8220.964004\n",
       "2    7089.135868\n",
       "3    6730.043373\n",
       "4    6778.117485\n",
       "5    7077.018521\n",
       "6    5878.929657\n",
       "7    8295.599222\n",
       "Name: sales, dtype: float64"
      ]
     },
     "execution_count": 72,
     "metadata": {},
     "output_type": "execute_result"
    }
   ],
   "source": [
    "sales_by_day_of_week = cleaned_sales_data.groupby('day_of_week')['sales'].mean()\n",
    "sales_by_day_of_week"
   ]
  },
  {
   "cell_type": "code",
   "execution_count": 74,
   "id": "35967597-d824-4c84-8d6b-079a9ce39e8c",
   "metadata": {},
   "outputs": [
    {
     "data": {
      "text/plain": [
       "0.8236592239942568"
      ]
     },
     "execution_count": 74,
     "metadata": {},
     "output_type": "execute_result"
    }
   ],
   "source": [
    "correlation_customers_sales = cleaned_sales_data['nb_customers_on_day'].corr(cleaned_sales_data['sales'])\n",
    "correlation_customers_sales"
   ]
  },
  {
   "cell_type": "code",
   "execution_count": 78,
   "id": "96f7e596-44cc-4ebf-a791-3cb4ab67d966",
   "metadata": {},
   "outputs": [
    {
     "data": {
      "text/plain": [
       "state_holiday\n",
       "0     6957.528761\n",
       "a     8452.615385\n",
       "b    10449.764706\n",
       "c     9763.833333\n",
       "Name: sales, dtype: float64"
      ]
     },
     "execution_count": 78,
     "metadata": {},
     "output_type": "execute_result"
    }
   ],
   "source": [
    "sales_by_holiday_type = cleaned_sales_data.groupby('state_holiday')['sales'].mean()\n",
    "sales_by_holiday_type"
   ]
  },
  {
   "cell_type": "code",
   "execution_count": 88,
   "id": "925a2fdb-e79f-49dc-9a89-1cf5cfbf03ad",
   "metadata": {},
   "outputs": [
    {
     "data": {
      "image/png": "[encoded data removed]",
      "text/plain": [
       "<Figure size 1200x600 with 1 Axes>"
      ]
     },
     "metadata": {},
     "output_type": "display_data"
    }
   ],
   "source": [
    "holiday_sales = cleaned_sales_data[cleaned_sales_data['state_holiday'] != '0']['sales']\n",
    "regular_sales = cleaned_sales_data[cleaned_sales_data['state_holiday'] == '0']['sales']\n",
    "\n",
    "plt.figure(figsize=(12, 6))\n",
    "plt.hist(holiday_sales, bins=30, alpha=0.5, label='Holiday Sales', color='blue', density=True)\n",
    "plt.hist(regular_sales, bins=30, alpha=0.5, label='Regular Day Sales', color='green', density=True)\n",
    "plt.xlabel('Sales')\n",
    "plt.ylabel('Density')\n",
    "plt.title('Normalized Sales Distribution: Holidays vs. Regular Days')\n",
    "plt.legend()\n",
    "plt.grid(True)\n",
    "plt.show()"
   ]
  },
  {
   "cell_type": "code",
   "execution_count": 19,
   "id": "f30fed82-a56d-4b3f-9095-a081c02d8d69",
   "metadata": {},
   "outputs": [
    {
     "data": {
      "image/png": "[encoded data removed]",
      "text/plain": [
       "<Figure size 800x600 with 1 Axes>"
      ]
     },
     "metadata": {},
     "output_type": "display_data"
    },
    {
     "data": {
      "text/plain": [
       "(1381.7046632124352, 762.330745230577)"
      ]
     },
     "execution_count": 19,
     "metadata": {},
     "output_type": "execute_result"
    }
   ],
   "source": [
    "holiday_customers_avg = cleaned_sales_data[cleaned_sales_data['state_holiday'] != '0']['nb_customers_on_day'].mean()\n",
    "regular_customers_avg = cleaned_sales_data[cleaned_sales_data['state_holiday'] == '0']['nb_customers_on_day'].mean()\n",
    "plt.figure(figsize=(8, 6))\n",
    "\n",
    "plt.bar(['Holiday Customers', 'Regular Day Customers'], [holiday_customers_avg, regular_customers_avg], color=['blue', 'green'])\n",
    "plt.ylabel('Average Number of Customers')\n",
    "plt.title('Average Customers: Holidays vs. Regular Days')\n",
    "plt.grid(axis='y', linestyle='--', alpha=0.7)\n",
    "plt.show()\n",
    "holiday_customers_avg, regular_customers_avg"
   ]
  },
  {
   "cell_type": "code",
   "execution_count": 13,
   "id": "6eb51cb1-f876-450f-889f-27603c721838",
   "metadata": {},
   "outputs": [
    {
     "data": {
      "text/plain": [
       "(12364158, 262)"
      ]
     },
     "execution_count": 13,
     "metadata": {},
     "output_type": "execute_result"
    }
   ],
   "source": [
    "store_with_highest_sales = cleaned_sales_data.groupby('store_ID')['sales'].sum().idxmax()\n",
    "highest_sales_value = cleaned_sales_data.groupby('store_ID')['sales'].sum().max()\n",
    "\n",
    "highest_sales_value, store_with_highest_sales"
   ]
  },
  {
   "cell_type": "code",
   "execution_count": 15,
   "id": "a7949756-692d-46b0-afad-6c9552a79cbc",
   "metadata": {},
   "outputs": [
    {
     "data": {
      "text/plain": [
       "(7, 8295.599221789884)"
      ]
     },
     "execution_count": 15,
     "metadata": {},
     "output_type": "execute_result"
    }
   ],
   "source": [
    "day_with_highest_avg_sales = cleaned_sales_data.groupby('day_of_week')['sales'].mean().idxmax()\n",
    "highest_avg_sales_value = cleaned_sales_data.groupby('day_of_week')['sales'].mean().max()\n",
    "\n",
    "day_with_highest_avg_sales, highest_avg_sales_value"
   ]
  },
  {
   "cell_type": "code",
   "execution_count": 21,
   "id": "2bf1c532-5f4e-4f0d-95c2-398f93b0aabd",
   "metadata": {},
   "outputs": [
    {
     "data": {
      "text/plain": [
       "(307, 1267070)"
      ]
     },
     "execution_count": 21,
     "metadata": {},
     "output_type": "execute_result"
    }
   ],
   "source": [
    "store_with_lowest_sales = cleaned_sales_data.groupby('store_ID')['sales'].sum().idxmin()\n",
    "lowest_sales_value = cleaned_sales_data.groupby('store_ID')['sales'].sum().min()\n",
    "\n",
    "store_with_lowest_sales, lowest_sales_value"
   ]
  },
  {
   "cell_type": "code",
   "execution_count": 23,
   "id": "552037c8-8fc7-4d70-ba82-ecb452d09721",
   "metadata": {},
   "outputs": [
    {
     "data": {
      "text/plain": [
       "(0, 468)"
      ]
     },
     "execution_count": 23,
     "metadata": {},
     "output_type": "execute_result"
    }
   ],
   "source": [
    "lowest_sales_store_data = cleaned_sales_data[cleaned_sales_data['store_ID'] == store_with_lowest_sales]\n",
    "\n",
    "holiday_open_days = lowest_sales_store_data[(lowest_sales_store_data['state_holiday'] != '0') & (lowest_sales_store_data['open'] == 1)].shape[0]\n",
    "regular_open_days = lowest_sales_store_data[(lowest_sales_store_data['state_holiday'] == '0') & (lowest_sales_store_data['open'] == 1)].shape[0]\n",
    "\n",
    "holiday_open_days, regular_open_days"
   ]
  },
  {
   "cell_type": "code",
   "execution_count": 25,
   "id": "bd992533-51e6-459e-b583-476ac20b548a",
   "metadata": {},
   "outputs": [
    {
     "data": {
      "text/plain": [
       "(18, 577)"
      ]
     },
     "execution_count": 25,
     "metadata": {},
     "output_type": "execute_result"
    }
   ],
   "source": [
    "highest_sales_store_data = cleaned_sales_data[cleaned_sales_data['store_ID'] == store_with_highest_sales]\n",
    "\n",
    "\n",
    "holiday_open_days_highest = highest_sales_store_data[(highest_sales_store_data['state_holiday'] != '0') & (highest_sales_store_data['open'] == 1)].shape[0]\n",
    "regular_open_days_highest = highest_sales_store_data[(highest_sales_store_data['state_holiday'] == '0') & (highest_sales_store_data['open'] == 1)].shape[0]\n",
    "\n",
    "\n",
    "holiday_open_days_highest, regular_open_days_highest"
   ]
  },
  {
   "cell_type": "code",
   "execution_count": null,
   "id": "92eb9af3-ee48-4805-963d-feae10598b8b",
   "metadata": {},
   "outputs": [],
   "source": []
  }
 ],
 "metadata": {
  "kernelspec": {
   "display_name": "Python 3 (ipykernel)",
   "language": "python",
   "name": "python3"
  },
  "language_info": {
   "codemirror_mode": {
    "name": "ipython",
    "version": 3
   },
   "file_extension": ".py",
   "mimetype": "text/x-python",
   "name": "python",
   "nbconvert_exporter": "python",
   "pygments_lexer": "ipython3",
   "version": "3.12.7"
  }
 },
 "nbformat": 4,
 "nbformat_minor": 5
}
